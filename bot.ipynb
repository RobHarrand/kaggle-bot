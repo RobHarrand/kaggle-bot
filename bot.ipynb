{
 "cells": [
  {
   "cell_type": "markdown",
   "metadata": {},
   "source": [
    "---\n",
    "title: \"Kaggle kernel bot script\"\n",
    "---\n",
    "\n",
    "This script has been automatically generated. It's aim is to apply simple machine learning code to the data within the dataset.\n",
    "\n",
    "First, let's load some modules that we'll be using,"
   ]
  },
  {
   "cell_type": "code",
   "execution_count": null,
   "metadata": {
    "attributes": {
     "classes": [],
     "id": "",
     "include": "FALSE"
    }
   },
   "outputs": [],
   "source": [
    "suppressMessages(library(pROC))\n",
    "suppressMessages(library(caret))\n",
    "suppressMessages(library(Boruta))"
   ]
  },
  {
   "cell_type": "markdown",
   "metadata": {},
   "source": [
    "List all the CSV files available,"
   ]
  },
  {
   "cell_type": "code",
   "execution_count": null,
   "metadata": {},
   "outputs": [],
   "source": [
    "candidate_dir = '../input/'\n",
    "csv_files = list.files(candidate_dir, recursive = T, full.names = T)\n",
    "csv_files = csv_files[grep('.csv', csv_files)]\n",
    "csv_files"
   ]
  },
  {
   "cell_type": "markdown",
   "metadata": {},
   "source": [
    "Load the first one (future versions could try them all, or try to ascertain which is the main csv file from the metadata?),"
   ]
  },
  {
   "cell_type": "code",
   "execution_count": null,
   "metadata": {},
   "outputs": [],
   "source": [
    "candidate = read.csv(csv_files[1], stringsAsFactors = F)"
   ]
  },
  {
   "cell_type": "markdown",
   "metadata": {},
   "source": [
    "Let's take a look,"
   ]
  },
  {
   "cell_type": "code",
   "execution_count": null,
   "metadata": {},
   "outputs": [],
   "source": [
    "head(candidate)"
   ]
  },
  {
   "cell_type": "markdown",
   "metadata": {},
   "source": [
    "We need the column corresponding to the 'target' variable. Let's try to figure that out by finding all the columns with only 2 possible entries,"
   ]
  },
  {
   "cell_type": "code",
   "execution_count": null,
   "metadata": {},
   "outputs": [],
   "source": [
    "binary = vector()\n",
    "i=1\n",
    "\n",
    "while (i<=dim(candidate)[2]) {\n",
    "  \n",
    "  binary[i] = length(table(candidate[,i])) == 2\n",
    "  i=i+1\n",
    "  \n",
    "}\n",
    "\n",
    "table(binary)[2]\n",
    "\n",
    "col_cands = colnames(candidate)[binary]\n",
    "col_cands = col_cands[!col_cands %in% c('gender', 'Gender', 'sex', 'Sex')] #A bit of a hack, but often these columns exist as predictor variables\n",
    "col_cands"
   ]
  },
  {
   "cell_type": "markdown",
   "metadata": {},
   "source": [
    "These are the 'candidate columns'. Let's use the first one (again, future versions could try them all, or try to ascertain which is the main csv file from the metadata?)\n",
    "\n",
    "Now, let's find out which columns to remove. These are columns that contain too many 'NA' values. If the percentage of NA values is less than 30%, let's impute the missing values with either the mean (if numeric) or the most common entry (if a character or factor),"
   ]
  },
  {
   "cell_type": "code",
   "execution_count": null,
   "metadata": {},
   "outputs": [],
   "source": [
    "to_remove = vector()\n",
    "i=1\n",
    "while (i<=dim(candidate)[2]) {\n",
    "  \n",
    "  perc_na = length(candidate[,i])/table(is.na(candidate[,i]))[2]\n",
    "  if (is.na(perc_na) & !is.na(candidate[1,i])) {perc_na = 0}\n",
    "  if (is.na(perc_na) & is.na(candidate[1,i])) {to_remove = c(to_remove, colnames(candidate)[i])}\n",
    "  if (!is.na(perc_na)) {\n",
    "    if (perc_na > 0.3) {to_remove = c(to_remove, colnames(candidate)[i])}\n",
    "    if (perc_na > 0 & perc_na <= 0.3) {\n",
    "      if (is.numeric(candidate[,i])) {\n",
    "        candidate[,i][is.na(candidate[,i])] = mean(candidate[,i], na.rm = T)\n",
    "      }\n",
    "      if (is.character(candidate[,i]) | is.factor(candidate[,i])) {\n",
    "        candidate[,i][is.na(candidate[,i])] = names(sort(table(candidate[,i], useNA = F), \n",
    "                                                         decreasing = T)[1])\n",
    "      } else {to_remove = c(to_remove, colnames(candidate)[i])}}\n",
    "  }\n",
    "  i=i+1\n",
    "}\n",
    "\n",
    "to_remove"
   ]
  },
  {
   "cell_type": "markdown",
   "metadata": {},
   "source": [
    "These are the columns to be removed (if any). Let's remove them,"
   ]
  },
  {
   "cell_type": "code",
   "execution_count": null,
   "metadata": {},
   "outputs": [],
   "source": [
    "candidate = candidate[,!colnames(candidate) %in% to_remove]"
   ]
  },
  {
   "cell_type": "markdown",
   "metadata": {},
   "source": [
    "Now let's call the 2 entries in the candidate target column 'class 1' and 'class 2'. You'll have to pay attention to what these correspond to in the dataset at the end of the analysis,"
   ]
  },
  {
   "cell_type": "code",
   "execution_count": null,
   "metadata": {},
   "outputs": [],
   "source": [
    "classes = table(candidate[,colnames(candidate) == col_cands[1]])\n",
    "candidate[,colnames(candidate) == col_cands[1]][candidate[,colnames(candidate) == col_cands[1]] == names(classes[1])] = 'class1'\n",
    "candidate[,colnames(candidate) == col_cands[1]][candidate[,colnames(candidate) == col_cands[1]] == names(classes[2])] = 'class2'\n",
    "candidate[,colnames(candidate) == col_cands[1]] = as.factor(candidate[,colnames(candidate) == col_cands[1]])"
   ]
  },
  {
   "cell_type": "markdown",
   "metadata": {},
   "source": [
    "Now, let's remove any columns that aren't of any predictive use. We'll use the Boruta module for that,"
   ]
  },
  {
   "cell_type": "code",
   "execution_count": null,
   "metadata": {},
   "outputs": [],
   "source": [
    "set.seed(1)\n",
    "bor.results <- Boruta(candidate, candidate[,colnames(candidate) == col_cands[1]], maxRuns=20, doTrace=0)\n",
    "\n",
    "par(mar=c(14,4.1,4.1,2.1))\n",
    "plot(bor.results, las = 2, xlab = \"\")\n",
    "\n",
    "att = getSelectedAttributes(bor.results, withTentative = F)\n",
    "candidate_bor = candidate[att]"
   ]
  },
  {
   "cell_type": "markdown",
   "metadata": {},
   "source": [
    "Next, let's put together a simple logistic regression model (GLM),"
   ]
  },
  {
   "cell_type": "code",
   "execution_count": null,
   "metadata": {},
   "outputs": [],
   "source": [
    "set.seed(1) #Set seed to ensure reproducible results\n",
    "fitControl <- trainControl(method = \"repeatedcv\", number = 10, repeats = 20, summaryFunction = twoClassSummary,\n",
    "                           classProbs = TRUE, savePredictions = T)\n",
    "\n",
    "new_dt = candidate_bor[,colnames(candidate_bor) != col_cands[1]]\n",
    "new_dt = cbind(new_dt, candidate_bor[,colnames(candidate_bor) == col_cands[1]])\n",
    "colnames(new_dt)[dim(new_dt)[2]] = 'target'\n",
    "\n",
    "set.seed(825)\n",
    "model_glm = suppressWarnings(train(target ~ ., \n",
    "              data = new_dt,\n",
    "              method = \"glm\",\n",
    "              trControl = fitControl,\n",
    "              metric = \"ROC\"))\n",
    "\n",
    "getTrainPerf(model_glm) #Internal CV performance"
   ]
  },
  {
   "cell_type": "markdown",
   "metadata": {},
   "source": [
    "This is the performance of the model. How about a Gradient Boosting Machine model and a Random Forest model?"
   ]
  },
  {
   "cell_type": "code",
   "execution_count": null,
   "metadata": {},
   "outputs": [],
   "source": [
    "set.seed(825)\n",
    "model_gbm = train(target ~ ., \n",
    "              data = new_dt,\n",
    "              method = \"gbm\",\n",
    "              verbose = F,\n",
    "              trControl = fitControl,\n",
    "              metric = \"ROC\")\n",
    "\n",
    "set.seed(825)\n",
    "model_rf = train(target ~ ., \n",
    "              data = new_dt,\n",
    "              method = \"rf\",\n",
    "              trControl = fitControl,\n",
    "              metric = \"ROC\")"
   ]
  },
  {
   "cell_type": "markdown",
   "metadata": {},
   "source": [
    "Let's create some ROC plots,"
   ]
  },
  {
   "cell_type": "code",
   "execution_count": null,
   "metadata": {},
   "outputs": [],
   "source": [
    "roc_glm = roc(as.numeric(candidate_bor[,colnames(candidate_bor) == col_cands[1]]=='class1'),\n",
    "          aggregate(class1~rowIndex,model_glm$pred,mean)[,'class1'], ci=T)\n",
    "\n",
    "roc_gbm = roc(as.numeric(candidate_bor[,colnames(candidate_bor) == col_cands[1]]=='class1'),\n",
    "          aggregate(class1~rowIndex,model_gbm$pred,mean)[,'class1'], ci=T)\n",
    "\n",
    "roc_rf = roc(as.numeric(candidate_bor[,colnames(candidate_bor) == col_cands[1]]=='class1'),\n",
    "          aggregate(class1~rowIndex,model_rf$pred,mean)[,'class1'], ci=T)"
   ]
  },
  {
   "cell_type": "markdown",
   "metadata": {},
   "source": [
    "Here are the ROC plot details."
   ]
  },
  {
   "cell_type": "code",
   "execution_count": null,
   "metadata": {},
   "outputs": [],
   "source": [
    "coords(roc_glm, x = \"local maximas\")"
   ]
  },
  {
   "cell_type": "markdown",
   "metadata": {},
   "source": [
    "These are the local maximas from the GLM ROC plot."
   ]
  },
  {
   "cell_type": "code",
   "execution_count": null,
   "metadata": {},
   "outputs": [],
   "source": [
    "par(pty=\"s\")\n",
    "plot(roc_glm)\n",
    "lines(roc_gbm, col = 'red')\n",
    "lines(roc_rf, col = 'blue')\n",
    "legend(0.35, 0.5, legend=c(\"GLM\", \"GBM\", \"RF\"), col=c(\"black\", \"red\", \"blue\"), lty=1:2, cex=0.8)"
   ]
  },
  {
   "cell_type": "markdown",
   "metadata": {},
   "source": [
    "This is the ROC plot.\n",
    "\n",
    "Hopefully this script has given you ideas of where to go next. Good luck!"
   ]
  }
 ],
 "metadata": {},
 "nbformat": 4,
 "nbformat_minor": 2
}
